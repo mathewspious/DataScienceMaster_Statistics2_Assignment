{
 "cells": [
  {
   "cell_type": "markdown",
   "metadata": {},
   "source": [
    "## Session16_Assignment1"
   ]
  },
  {
   "cell_type": "markdown",
   "metadata": {},
   "source": [
    "##### 1. A test is conducted which is consisting of 20 MCQs (multiple choices questions) with every MCQ having its four options out of which only one is correct. Determine the probability that a person undertaking that test has answered exactly 5 questions wrong."
   ]
  },
  {
   "cell_type": "code",
   "execution_count": 6,
   "metadata": {},
   "outputs": [
    {
     "name": "stdout",
     "output_type": "stream",
     "text": [
      "probability that a person undertaking that test has answered exactly 5 questions wrong: 0.0000034265\n"
     ]
    },
    {
     "data": {
      "image/png": "[encoded data removed]",
      "text/plain": [
       "<Figure size 432x288 with 1 Axes>"
      ]
     },
     "metadata": {},
     "output_type": "display_data"
    }
   ],
   "source": [
    "from scipy.stats import binom\n",
    "import matplotlib.pyplot as plt\n",
    "import seaborn as sns\n",
    "sns.set(color_codes=True)\n",
    "fig, ax = plt.subplots(1, 1)\n",
    "## Number of success = 15, Number of failure is 20-15 = 5\n",
    "x = range(6)\n",
    "## Number of trials n\n",
    "n=20\n",
    "## propbaility of corrcet answer in a trial = 1/4 , probaility of wrong answer in a trial = 3/4\n",
    "p=.75\n",
    "rv = binom(n, p)\n",
    "\n",
    "print('probability that a person undertaking that test has answered exactly 5 questions wrong: %.10f' % rv.pmf(5))\n",
    "\n",
    "ax.vlines(x, 0, rv.pmf(x), colors='k', linestyles='-', lw=1,label='Probablity')          \n",
    "ax.legend(loc='best', frameon=False)          \n",
    "plt.show()"
   ]
  },
  {
   "cell_type": "markdown",
   "metadata": {},
   "source": [
    "##### 2. A die marked A to E is rolled 50 times. Find the probability of getting a “D” exactly 5 times."
   ]
  },
  {
   "cell_type": "code",
   "execution_count": 7,
   "metadata": {},
   "outputs": [
    {
     "name": "stdout",
     "output_type": "stream",
     "text": [
      "probability of getting a “D” exactly 5 times: 0.0295312043\n"
     ]
    },
    {
     "data": {
      "image/png": "[encoded data removed]",
      "text/plain": [
       "<Figure size 432x288 with 1 Axes>"
      ]
     },
     "metadata": {},
     "output_type": "display_data"
    }
   ],
   "source": [
    "from scipy.stats import binom\n",
    "import matplotlib.pyplot as plt\n",
    "fig, ax = plt.subplots(1, 1)\n",
    "## Number of success = 5, Number of failure is 50-5 = 45\n",
    "x = range(10)\n",
    "## Number of trials n\n",
    "n=50\n",
    "## propbaility of getting E = 1/5 , probaility of not getting E = 4/5\n",
    "p=.2\n",
    "rv = binom(n, p)\n",
    "\n",
    "print('probability of getting a “D” exactly 5 times: %.10f' % rv.pmf(5))\n",
    "\n",
    "ax.vlines(x, 0, rv.pmf(x), colors='k', linestyles='-', lw=1,label='Probablity of Success')          \n",
    "ax.legend(loc='best', frameon=False)          \n",
    "plt.show()"
   ]
  },
  {
   "cell_type": "markdown",
   "metadata": {},
   "source": [
    "##### 3. Two balls are drawn at random in succession without replacement from an urn containing 4 red balls and 6 black balls. Find the probabilities of all the possible outcomes."
   ]
  },
  {
   "cell_type": "markdown",
   "metadata": {},
   "source": [
    "- Possible Events\n",
    "    - RR  (4/10)(3/9) = 2/15\n",
    "    - RB  (4/10)(6/9) = 4/15\n",
    "    - BR  (6/10)(4/9) = 4/15 \n",
    "    - BB  (6/10)(5/9) = 1/3\n",
    " "
   ]
  },
  {
   "cell_type": "markdown",
   "metadata": {},
   "source": [
    "- The probability of 0 blue balls (RR)is 2/15\n",
    "- The probability of 1 blue ball is (RB or BR) is 4/15+4/15 = 8/15\n",
    "- The probability of 2 blue balls (BB) is 1/3"
   ]
  },
  {
   "cell_type": "markdown",
   "metadata": {},
   "source": [
    "- Sum of probabilities = 2/15+8/15+1/3 = 1"
   ]
  },
  {
   "cell_type": "code",
   "execution_count": null,
   "metadata": {},
   "outputs": [],
   "source": []
  }
 ],
 "metadata": {
  "kernelspec": {
   "display_name": "Python 3",
   "language": "python",
   "name": "python3"
  },
  "language_info": {
   "codemirror_mode": {
    "name": "ipython",
    "version": 3
   },
   "file_extension": ".py",
   "mimetype": "text/x-python",
   "name": "python",
   "nbconvert_exporter": "python",
   "pygments_lexer": "ipython3",
   "version": "3.6.5"
  }
 },
 "nbformat": 4,
 "nbformat_minor": 2
}
